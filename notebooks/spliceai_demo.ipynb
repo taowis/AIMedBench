{
  "cells": [
    {
      "cell_type": "markdown",
      "metadata": {},
      "source": [
        "# SpliceAI demo (drop-in)\n",
        "Load a CSV of predictions and evaluate against truth.\n"
      ]
    },
    {
      "cell_type": "code",
      "metadata": {},
      "source": [
        "import pandas as pd\n",
        "from src.evaluate import evaluate_predictions\n",
        "truth = pd.read_csv('data/truth_labels.tsv')\n",
        "preds = pd.read_csv('predictions/external/spliceai_sample.csv')\n",
        "evaluate_predictions(truth, preds)"
      ]
    }
  ],
  "metadata": {
    "kernelspec": {
      "name": "python3",
      "display_name": "Python 3"
    },
    "language_info": {
      "name": "python"
    }
  },
  "nbformat": 4,
  "nbformat_minor": 5
}